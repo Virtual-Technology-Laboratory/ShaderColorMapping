{
 "metadata": {
  "name": "",
  "signature": "sha256:0e8cfbed6e1c43578e78d40fa4b958831fb42b3a5f086581629ffb79d91e72d2"
 },
 "nbformat": 3,
 "nbformat_minor": 0,
 "worksheets": [
  {
   "cells": [
    {
     "cell_type": "code",
     "collapsed": false,
     "input": [
      "import numpy as np\n",
      "\n",
      "from osgeo import gdal, osr\n",
      "from osgeo.gdalconst import *"
     ],
     "language": "python",
     "metadata": {},
     "outputs": [],
     "prompt_number": 9
    },
    {
     "cell_type": "code",
     "collapsed": false,
     "input": [
      "#rgbn_fn = r\"../inputs/basemapRGBN-00.tif\"\n",
      "#nvdi_fn = r\"../outputs/basemapNVDI-00.tif\"\n",
      "rgbn_fn = r\"../inputs/basemapRGBN-08.tif\"\n",
      "nvdi_fn = r\"../outputs/basemapNVDI-08.tif\"\n"
     ],
     "language": "python",
     "metadata": {},
     "outputs": [],
     "prompt_number": 17
    },
    {
     "cell_type": "code",
     "collapsed": false,
     "input": [
      "\n",
      "# open the RGBN and read the SRS\n",
      "ds = gdal.Open(rgbn_fn, GA_ReadOnly)\n",
      "proj = ds.GetProjectionRef()\n",
      "srs = None\n",
      "if proj is not None:\n",
      "    srs = osr.SpatialReference()\n",
      "    srs.ImportFromWkt(proj)\n",
      "\n",
      "# get data from RGBN\n",
      "b1 = ds.GetRasterBand(1)\n",
      "r = np.array(b1.ReadAsArray(), dtype=np.float64)\n",
      "\n",
      "b4 = ds.GetRasterBand(4)\n",
      "n = np.array(b4.ReadAsArray(), dtype=np.float64)\n",
      "\n",
      "# calculate NVDI\n",
      "nvdi = (n - r) / (n + r)  # scaled between -1 to 1\n",
      "\n",
      "print(np.min(nvdi), '\\t', np.max(nvdi))"
     ],
     "language": "python",
     "metadata": {},
     "outputs": [
      {
       "output_type": "stream",
       "stream": "stdout",
       "text": [
        "(-0.80991735537190079, '\\t', 0.66816143497757852)\n"
       ]
      }
     ],
     "prompt_number": 18
    },
    {
     "cell_type": "code",
     "collapsed": false,
     "input": [
      "# Create new dataset\n",
      "nx, ny = ds.RasterXSize, ds.RasterYSize\n",
      "driver = gdal.GetDriverByName('Gtiff')\n",
      "dst = driver.Create(nvdi_fn, nx, ny,\n",
      "                    1, GDT_Float32)\n",
      "\n",
      "# set projection\n",
      "wkt = srs.ExportToWkt()\n",
      "proj = osr.SpatialReference()\n",
      "proj.CopyGeogCSFrom(srs)\n",
      "status = proj.ImportFromWkt(wkt)\n",
      "\n",
      "dst.SetProjection(proj.ExportToWkt())\n",
      "\n",
      "# set geotransform\n",
      "dst.SetGeoTransform(ds.GetGeoTransform())\n",
      "\n",
      "# write data\n",
      "dst.GetRasterBand(1).WriteArray(nvdi)\n",
      "\n",
      "ds = None \n",
      "dst = None"
     ],
     "language": "python",
     "metadata": {},
     "outputs": [],
     "prompt_number": 19
    },
    {
     "cell_type": "code",
     "collapsed": false,
     "input": [
      "!gdalinfo $nvdi_fn -stats"
     ],
     "language": "python",
     "metadata": {},
     "outputs": [
      {
       "output_type": "stream",
       "stream": "stdout",
       "text": [
        "Driver: GTiff/GeoTIFF\n",
        "Files: ../outputs/basemapNVDI-08.tif\n",
        "Size is 2048, 2048\n",
        "Coordinate System is:\n",
        "PROJCS[\"NAD83 / UTM zone 11N\",\n",
        "    GEOGCS[\"NAD83\",\n",
        "        DATUM[\"North_American_Datum_1983\",\n",
        "            SPHEROID[\"GRS 1980\",6378137,298.2572221010002,\n",
        "                AUTHORITY[\"EPSG\",\"7019\"]],\n",
        "            TOWGS84[0,0,0,0,0,0,0],\n",
        "            AUTHORITY[\"EPSG\",\"6269\"]],\n",
        "        PRIMEM[\"Greenwich\",0],\n",
        "        UNIT[\"degree\",0.0174532925199433],\n",
        "        AUTHORITY[\"EPSG\",\"4269\"]],\n",
        "    PROJECTION[\"Transverse_Mercator\"],\n",
        "    PARAMETER[\"latitude_of_origin\",0],\n",
        "    PARAMETER[\"central_meridian\",-117],\n",
        "    PARAMETER[\"scale_factor\",0.9996],\n",
        "    PARAMETER[\"false_easting\",500000],\n",
        "    PARAMETER[\"false_northing\",0],\n",
        "    UNIT[\"metre\",1,\n",
        "        AUTHORITY[\"EPSG\",\"9001\"]],\n",
        "    AUTHORITY[\"EPSG\",\"26911\"]]\n",
        "Origin = (565889.359999999990000,4840844.559999999600000)\n",
        "Pixel Size = (1.000488281250000,-1.000488281250000)\n",
        "Metadata:\n",
        "  AREA_OR_POINT=Area\n",
        "Image Structure Metadata:\n",
        "  INTERLEAVE=BAND\n",
        "Corner Coordinates:\n",
        "Upper Left  (  565889.360, 4840844.560) (116d10'55.35\"W, 43d43' 3.73\"N)\n",
        "Lower Left  (  565889.360, 4838795.560) (116d10'56.25\"W, 43d41'57.32\"N)\n",
        "Upper Right (  567938.360, 4840844.560) (116d 9'23.79\"W, 43d43' 3.07\"N)\n",
        "Lower Right (  567938.360, 4838795.560) (116d 9'24.72\"W, 43d41'56.66\"N)\n",
        "Center      (  566913.860, 4839820.060) (116d10'10.03\"W, 43d42'30.20\"N)\n",
        "Band 1 Block=2048x1 Type=Float32, ColorInterp=Gray\n",
        "  Minimum=-0.810, Maximum=0.668, Mean=-0.201, StdDev=0.080\n",
        "  Metadata:\n",
        "    STATISTICS_MAXIMUM=0.66816145181656\n",
        "    STATISTICS_MEAN=-0.20132766651086\n",
        "    STATISTICS_MINIMUM=-0.80991733074188\n",
        "    STATISTICS_STDDEV=0.079972557242857\n"
       ]
      }
     ],
     "prompt_number": 20
    },
    {
     "cell_type": "code",
     "collapsed": false,
     "input": [],
     "language": "python",
     "metadata": {},
     "outputs": []
    }
   ],
   "metadata": {}
  }
 ]
}