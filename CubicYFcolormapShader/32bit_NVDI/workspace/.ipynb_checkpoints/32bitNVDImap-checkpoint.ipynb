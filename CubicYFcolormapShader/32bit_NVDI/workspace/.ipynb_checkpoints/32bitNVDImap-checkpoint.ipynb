{
 "metadata": {
  "name": "",
  "signature": "sha256:a420dc92ddc2c743cf75c0c2ec7299e5a1544ae9aa5da782be648c12504792a0"
 },
 "nbformat": 3,
 "nbformat_minor": 0,
 "worksheets": [
  {
   "cells": [
    {
     "cell_type": "code",
     "collapsed": false,
     "input": [
      "import numpy as np\n",
      "\n",
      "from osgeo import gdal, osr\n",
      "from osgeo.gdalconst import *"
     ],
     "language": "python",
     "metadata": {},
     "outputs": [],
     "prompt_number": 9
    },
    {
     "cell_type": "code",
     "collapsed": false,
     "input": [
      "rgbn_fn = r\"../inputs/basemapRGBN-00.tif\"\n",
      "nvdi_fn = r\"../outputs/basemapNVDI-00.tif\""
     ],
     "language": "python",
     "metadata": {},
     "outputs": [],
     "prompt_number": 10
    },
    {
     "cell_type": "code",
     "collapsed": false,
     "input": [
      "\n",
      "# open the RGBN and read the SRS\n",
      "ds = gdal.Open(rgbn_fn, GA_ReadOnly)\n",
      "proj = ds.GetProjectionRef()\n",
      "srs = None\n",
      "if proj is not None:\n",
      "    srs = osr.SpatialReference()\n",
      "    srs.ImportFromWkt(proj)\n",
      "\n",
      "# get data from RGBN\n",
      "b1 = ds.GetRasterBand(1)\n",
      "r = np.array(b1.ReadAsArray(), dtype=np.float64)\n",
      "\n",
      "b4 = ds.GetRasterBand(4)\n",
      "n = np.array(b4.ReadAsArray(), dtype=np.float64)\n",
      "\n",
      "# calculate NVDI\n",
      "nvdi = (n - r) / (n + r)  # scaled between -1 to 1\n",
      "\n",
      "print(np.min(nvdi), '\\t', np.max(nvdi))"
     ],
     "language": "python",
     "metadata": {},
     "outputs": [
      {
       "output_type": "stream",
       "stream": "stdout",
       "text": [
        "(-0.77358490566037741, '\\t', 0.78199052132701419)\n"
       ]
      }
     ],
     "prompt_number": 11
    },
    {
     "cell_type": "code",
     "collapsed": false,
     "input": [
      "# Create new dataset\n",
      "nx, ny = ds.RasterXSize, ds.RasterYSize\n",
      "driver = gdal.GetDriverByName('Gtiff')\n",
      "dst = driver.Create(nvdi_fn, nx, ny,\n",
      "                    1, GDT_Float32)\n",
      "\n",
      "# set projection\n",
      "wkt = srs.ExportToWkt()\n",
      "proj = osr.SpatialReference()\n",
      "proj.CopyGeogCSFrom(srs)\n",
      "status = proj.ImportFromWkt(wkt)\n",
      "\n",
      "dst.SetProjection(proj.ExportToWkt())\n",
      "\n",
      "# set geotransform\n",
      "dst.SetGeoTransform(ds.GetGeoTransform())\n",
      "\n",
      "# write data\n",
      "dst.GetRasterBand(1).WriteArray(nvdi)\n",
      "\n",
      "ds = None \n",
      "dst = None"
     ],
     "language": "python",
     "metadata": {},
     "outputs": [],
     "prompt_number": 12
    },
    {
     "cell_type": "code",
     "collapsed": false,
     "input": [],
     "language": "python",
     "metadata": {},
     "outputs": []
    }
   ],
   "metadata": {}
  }
 ]
}